{
 "cells": [
  {
   "cell_type": "markdown",
   "id": "5d00ee27",
   "metadata": {},
   "source": [
    "# Daily Coding Problem 69"
   ]
  },
  {
   "cell_type": "raw",
   "id": "193c9c1e",
   "metadata": {},
   "source": [
    "This problem was asked by Facebook.\n",
    "\n",
    "Given a list of integers, return the largest product that can be made by multiplying any three integers.\n",
    "\n",
    "For example, if the list is [-10, -10, 5, 2], we should return 500, since that's -10 * -10 * 5.\n",
    "\n",
    "You can assume the list has at least three integers."
   ]
  },
  {
   "cell_type": "markdown",
   "id": "4b5292d4",
   "metadata": {},
   "source": [
    "# Solution\n",
    "\n",
    "We can do this in O(N) time by using select or looking for the largest elements manually.\n",
    "\n"
   ]
  },
  {
   "cell_type": "code",
   "execution_count": 5,
   "id": "bc1705a6",
   "metadata": {},
   "outputs": [
    {
     "name": "stdout",
     "output_type": "stream",
     "text": [
      "500\n"
     ]
    }
   ],
   "source": [
    "from math import inf\n",
    "\n",
    "def maximum_product_of_three(lst):\n",
    "    max1, max2, max3, min1, min2 = -inf, -inf, -inf, inf, inf\n",
    "\n",
    "    for x in lst:\n",
    "        if x > max1:\n",
    "            max3 = max2\n",
    "            max2 = max1\n",
    "            max1 = x\n",
    "        elif x > max2:\n",
    "            max3 = max2\n",
    "            max2 = x\n",
    "        elif x > max3:\n",
    "            max3 = x\n",
    "\n",
    "        if x < min1:\n",
    "            min2 = min1\n",
    "            min1 = x\n",
    "        elif x < min2:\n",
    "            min2 = x\n",
    "\n",
    "    return max(max1 * max2 * max3, max1 * min1 * min2)\n",
    "    \n",
    "print(maximum_product_of_three([-10, -10, 5, 2]))"
   ]
  },
  {
   "cell_type": "code",
   "execution_count": null,
   "id": "25c1d9d6",
   "metadata": {},
   "outputs": [],
   "source": []
  },
  {
   "cell_type": "code",
   "execution_count": null,
   "id": "7339801f",
   "metadata": {},
   "outputs": [],
   "source": []
  }
 ],
 "metadata": {
  "kernelspec": {
   "display_name": "Python 3 (ipykernel)",
   "language": "python",
   "name": "python3"
  },
  "language_info": {
   "codemirror_mode": {
    "name": "ipython",
    "version": 3
   },
   "file_extension": ".py",
   "mimetype": "text/x-python",
   "name": "python",
   "nbconvert_exporter": "python",
   "pygments_lexer": "ipython3",
   "version": "3.8.10"
  }
 },
 "nbformat": 4,
 "nbformat_minor": 5
}
